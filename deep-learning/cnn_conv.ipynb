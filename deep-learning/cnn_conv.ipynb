{
 "cells": [
  {
   "cell_type": "markdown",
   "id": "0f88f192",
   "metadata": {},
   "source": [
    "## tools importation"
   ]
  },
  {
   "cell_type": "code",
   "execution_count": 18,
   "id": "d35236ab",
   "metadata": {},
   "outputs": [],
   "source": [
    "import numpy as pd\n",
    "import pandas as pd\n",
    "import matplotlib.pyplot as plt\n",
    "\n",
    "#tensorflow tools\n",
    "import tensorflow as  tf\n",
    "from tensorflow import keras\n",
    "from tensorflow.keras.preprocessing.image import ImageDataGenerator"
   ]
  },
  {
   "cell_type": "code",
   "execution_count": 19,
   "id": "f106df99",
   "metadata": {},
   "outputs": [
    {
     "data": {
      "text/plain": [
       "'/Users/admin/Desktop/Pandas-journey/data/'"
      ]
     },
     "execution_count": 19,
     "metadata": {},
     "output_type": "execute_result"
    }
   ],
   "source": [
    "working_dir='/Users/admin/Desktop/Pandas-journey/data/'\n",
    "working_dir"
   ]
  },
  {
   "cell_type": "code",
   "execution_count": 20,
   "id": "d79c3446",
   "metadata": {},
   "outputs": [],
   "source": [
    "classes=['circle','square','star','triangle']"
   ]
  },
  {
   "cell_type": "code",
   "execution_count": 23,
   "id": "4b6d46cf",
   "metadata": {},
   "outputs": [],
   "source": [
    "data_generator=ImageDataGenerator(validation_split=0.2)"
   ]
  },
  {
   "cell_type": "code",
   "execution_count": 24,
   "id": "5fdb5402",
   "metadata": {},
   "outputs": [
    {
     "name": "stdout",
     "output_type": "stream",
     "text": [
      "Found 0 images belonging to 4 classes.\n"
     ]
    }
   ],
   "source": [
    "training_sets=data_generator.flow_from_directory(\n",
    "    working_dir,\n",
    "    classes=classes,\n",
    "    batch_size=100,\n",
    "    subset='training',\n",
    "    color_mode='grayscale'\n",
    ")"
   ]
  },
  {
   "cell_type": "code",
   "execution_count": 25,
   "id": "aafa8648",
   "metadata": {},
   "outputs": [
    {
     "name": "stdout",
     "output_type": "stream",
     "text": [
      "Found 0 images belonging to 4 classes.\n"
     ]
    }
   ],
   "source": [
    "validation_sets=data_generator.flow_from_directory(\n",
    "    working_dir,\n",
    "    classes=classes,\n",
    "    batch_size=100,\n",
    "    subset='validation',\n",
    "    color_mode='grayscale'\n",
    ")"
   ]
  },
  {
   "cell_type": "code",
   "execution_count": null,
   "id": "5609468c",
   "metadata": {},
   "outputs": [],
   "source": []
  }
 ],
 "metadata": {
  "kernelspec": {
   "display_name": "Python 3",
   "language": "python",
   "name": "python3"
  },
  "language_info": {
   "codemirror_mode": {
    "name": "ipython",
    "version": 3
   },
   "file_extension": ".py",
   "mimetype": "text/x-python",
   "name": "python",
   "nbconvert_exporter": "python",
   "pygments_lexer": "ipython3",
   "version": "3.8.8"
  }
 },
 "nbformat": 4,
 "nbformat_minor": 5
}
